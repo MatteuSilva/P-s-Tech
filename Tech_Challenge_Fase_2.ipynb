{
  "nbformat": 4,
  "nbformat_minor": 0,
  "metadata": {
    "colab": {
      "provenance": []
    },
    "kernelspec": {
      "name": "python3",
      "display_name": "Python 3"
    },
    "language_info": {
      "name": "python"
    }
  },
  "cells": [
    {
      "cell_type": "code",
      "source": [
        "import pandas as pd\n",
        "\n",
        "# Carregar o arquivo CSV\n",
        "file_path = '/content/Dados Históricos - Ibovespa (1).csv'\n",
        "data = pd.read_csv(file_path)\n",
        "\n",
        "# Exibir as primeiras linhas do DataFrame para análise\n",
        "print(data.head())\n",
        "\n"
      ],
      "metadata": {
        "colab": {
          "base_uri": "https://localhost:8080/"
        },
        "id": "VIlMXCEhiZYx",
        "outputId": "9d13b819-f536-4d43-e696-06171150d775"
      },
      "execution_count": 8,
      "outputs": [
        {
          "output_type": "stream",
          "name": "stdout",
          "text": [
            "         Data  Último  Abertura  Máxima  Mínima   Vol.    Var%\n",
            "0  11.09.2014  58.337    58.202  58.809  58.112  2,89M   0,24%\n",
            "1  12.09.2014  56.928    58.336  58.336  56.666  4,62M  -2,42%\n",
            "2  15.09.2014  57.949    56.930  57.949  56.852  2,90M   1,79%\n",
            "3  16.09.2014  59.115    57.949  60.243  57.946  4,88M   2,01%\n",
            "4  17.09.2014  59.108    59.115  60.025  59.096  3,53M  -0,01%\n"
          ]
        }
      ]
    },
    {
      "cell_type": "code",
      "source": [
        "# Verificar tipos de dados e colunas\n",
        "print(data.info())\n",
        "\n",
        "# Verificar estatísticas descritivas das colunas\n",
        "print(data.describe())\n"
      ],
      "metadata": {
        "colab": {
          "base_uri": "https://localhost:8080/"
        },
        "id": "o_pWqyqLi_Ya",
        "outputId": "51d9bcc2-ddaf-4279-d4f9-00c28db364e8"
      },
      "execution_count": 9,
      "outputs": [
        {
          "output_type": "stream",
          "name": "stdout",
          "text": [
            "<class 'pandas.core.frame.DataFrame'>\n",
            "RangeIndex: 2481 entries, 0 to 2480\n",
            "Data columns (total 7 columns):\n",
            " #   Column    Non-Null Count  Dtype  \n",
            "---  ------    --------------  -----  \n",
            " 0   Data      2481 non-null   object \n",
            " 1   Último    2481 non-null   float64\n",
            " 2   Abertura  2481 non-null   float64\n",
            " 3   Máxima    2481 non-null   float64\n",
            " 4   Mínima    2481 non-null   float64\n",
            " 5   Vol.      2480 non-null   object \n",
            " 6   Var%      2481 non-null   object \n",
            "dtypes: float64(4), object(3)\n",
            "memory usage: 135.8+ KB\n",
            "None\n",
            "            Último     Abertura       Máxima       Mínima\n",
            "count  2481.000000  2481.000000  2481.000000  2481.000000\n",
            "mean     89.925035    89.894826    90.724453    89.088683\n",
            "std      27.060639    27.053079    27.172850    26.928158\n",
            "min      37.497000    37.501000    38.031000    37.046000\n",
            "25%      63.954000    63.940000    64.456000    63.366000\n",
            "50%      96.999000    96.996000    97.879000    95.874000\n",
            "75%     113.001000   112.922000   114.091000   111.927000\n",
            "max     137.344000   137.349000   137.469000   136.664000\n"
          ]
        }
      ]
    },
    {
      "cell_type": "code",
      "source": [
        "# Converter a coluna Data para datetime\n",
        "data['Data'] = pd.to_datetime(data['Data'], format='%d.%m.%Y')\n"
      ],
      "metadata": {
        "id": "52Q9lJtDjES-"
      },
      "execution_count": 10,
      "outputs": []
    },
    {
      "cell_type": "code",
      "source": [
        "def convert_volume(value):\n",
        "    value = str(value)  # Converter para string para verificar as unidades\n",
        "    if 'B' in value:\n",
        "        return float(value.replace('B', '').replace(',', '.')) * 1e9\n",
        "    elif 'M' in value:\n",
        "        return float(value.replace('M', '').replace(',', '.')) * 1e6\n",
        "    elif 'K' in value:\n",
        "        return float(value.replace('K', '').replace(',', '.')) * 1e3\n",
        "    else:\n",
        "        return float(value.replace(',', '.'))\n",
        "\n",
        "# Aplicar a função de conversão à coluna 'Vol.'\n",
        "data['Vol.'] = data['Vol.'].apply(convert_volume)\n",
        "\n",
        "\n"
      ],
      "metadata": {
        "id": "6t7RcJDJjIgc"
      },
      "execution_count": 13,
      "outputs": []
    },
    {
      "cell_type": "code",
      "source": [
        "# Verificar tipos de dados após conversão\n",
        "print(data.info())\n",
        "\n",
        "# Verificar valores ausentes\n",
        "print(data.isnull().sum())\n",
        "\n",
        "# Verificar valores duplicados\n",
        "print(data.duplicated().sum())\n"
      ],
      "metadata": {
        "colab": {
          "base_uri": "https://localhost:8080/"
        },
        "id": "TVlBUomqjNuo",
        "outputId": "871e89be-244d-4af1-b9d8-4b2738b414bd"
      },
      "execution_count": 14,
      "outputs": [
        {
          "output_type": "stream",
          "name": "stdout",
          "text": [
            "<class 'pandas.core.frame.DataFrame'>\n",
            "RangeIndex: 2481 entries, 0 to 2480\n",
            "Data columns (total 7 columns):\n",
            " #   Column    Non-Null Count  Dtype         \n",
            "---  ------    --------------  -----         \n",
            " 0   Data      2481 non-null   datetime64[ns]\n",
            " 1   Último    2481 non-null   float64       \n",
            " 2   Abertura  2481 non-null   float64       \n",
            " 3   Máxima    2481 non-null   float64       \n",
            " 4   Mínima    2481 non-null   float64       \n",
            " 5   Vol.      2480 non-null   float64       \n",
            " 6   Var%      2481 non-null   object        \n",
            "dtypes: datetime64[ns](1), float64(5), object(1)\n",
            "memory usage: 135.8+ KB\n",
            "None\n",
            "Data        0\n",
            "Último      0\n",
            "Abertura    0\n",
            "Máxima      0\n",
            "Mínima      0\n",
            "Vol.        1\n",
            "Var%        0\n",
            "dtype: int64\n",
            "0\n"
          ]
        }
      ]
    },
    {
      "cell_type": "code",
      "source": [
        "# Ordenar os dados por data\n",
        "data = data.sort_values('Data')\n",
        "\n",
        "# Definir a coluna 'Último' como a série temporal\n",
        "ts_data = data[['Data', 'Último']]\n"
      ],
      "metadata": {
        "id": "8hXhKJyZjS5o"
      },
      "execution_count": 15,
      "outputs": []
    },
    {
      "cell_type": "code",
      "source": [
        "from sklearn.preprocessing import MinMaxScaler\n",
        "\n",
        "# Inicializar o scaler\n",
        "scaler = MinMaxScaler()\n",
        "\n",
        "# Normalizar a coluna 'Último' diretamente no DataFrame original\n",
        "ts_data.loc[:, 'Último'] = scaler.fit_transform(ts_data[['Último']])\n"
      ],
      "metadata": {
        "id": "Co2uQ2-tjXaS"
      },
      "execution_count": 16,
      "outputs": []
    },
    {
      "cell_type": "code",
      "source": [
        "import numpy as np\n",
        "\n",
        "def create_sequences(data, seq_length):\n",
        "    X, y = [], []\n",
        "    for i in range(len(data) - seq_length):\n",
        "        X.append(data[i:i + seq_length])\n",
        "        y.append(data[i + seq_length])\n",
        "    return np.array(X), np.array(y)\n",
        "\n",
        "# Definir o comprimento da sequência\n",
        "seq_length = 60  # Por exemplo, 60 dias\n",
        "\n",
        "# Criar sequências de dados\n",
        "X, y = create_sequences(ts_data['Último'].values, seq_length)\n",
        "\n",
        "# Dividir os dados em treinamento e teste\n",
        "split = int(0.8 * len(X))  # 80% para treinamento e 20% para teste\n",
        "X_train, X_test = X[:split], X[split:]\n",
        "y_train, y_test = y[:split], y[split:]\n"
      ],
      "metadata": {
        "id": "tNatuZZWje3b"
      },
      "execution_count": 17,
      "outputs": []
    },
    {
      "cell_type": "code",
      "source": [
        "# Verificar as dimensões dos conjuntos de dados\n",
        "print(f\"X_train shape: {X_train.shape}\")\n",
        "print(f\"y_train shape: {y_train.shape}\")\n",
        "print(f\"X_test shape: {X_test.shape}\")\n",
        "print(f\"y_test shape: {y_test.shape}\")\n"
      ],
      "metadata": {
        "colab": {
          "base_uri": "https://localhost:8080/"
        },
        "id": "NqvvFPQtjvE6",
        "outputId": "e8a694c9-2b4a-497e-96d9-da7855cb20d6"
      },
      "execution_count": 18,
      "outputs": [
        {
          "output_type": "stream",
          "name": "stdout",
          "text": [
            "X_train shape: (1936, 60)\n",
            "y_train shape: (1936,)\n",
            "X_test shape: (485, 60)\n",
            "y_test shape: (485,)\n"
          ]
        }
      ]
    },
    {
      "cell_type": "code",
      "source": [
        "import tensorflow as tf\n",
        "from tensorflow.keras.models import Sequential\n",
        "from tensorflow.keras.layers import LSTM, Dense\n",
        "\n",
        "# Construir o modelo LSTM\n",
        "model = Sequential()\n",
        "model.add(LSTM(50, activation='relu', input_shape=(X_train.shape[1], 1)))\n",
        "model.add(Dense(1))\n",
        "\n",
        "# Compilar o modelo\n",
        "model.compile(optimizer='adam', loss='mean_squared_error')\n",
        "\n",
        "# Reshape dos dados para o formato [amostras, timesteps, features]\n",
        "X_train_reshaped = X_train.reshape((X_train.shape[0], X_train.shape[1], 1))\n",
        "X_test_reshaped = X_test.reshape((X_test.shape[0], X_test.shape[1], 1))\n",
        "\n",
        "# Treinar o modelo\n",
        "history = model.fit(X_train_reshaped, y_train, epochs=50, batch_size=32, validation_split=0.2, verbose=1)\n"
      ],
      "metadata": {
        "colab": {
          "base_uri": "https://localhost:8080/"
        },
        "id": "7LGIaTC1jv-7",
        "outputId": "061f0ed8-30e9-4f24-d0dc-53140e44ef5c"
      },
      "execution_count": 19,
      "outputs": [
        {
          "output_type": "stream",
          "name": "stdout",
          "text": [
            "Epoch 1/50\n"
          ]
        },
        {
          "output_type": "stream",
          "name": "stderr",
          "text": [
            "/usr/local/lib/python3.10/dist-packages/keras/src/layers/rnn/rnn.py:204: UserWarning: Do not pass an `input_shape`/`input_dim` argument to a layer. When using Sequential models, prefer using an `Input(shape)` object as the first layer in the model instead.\n",
            "  super().__init__(**kwargs)\n"
          ]
        },
        {
          "output_type": "stream",
          "name": "stdout",
          "text": [
            "\u001b[1m49/49\u001b[0m \u001b[32m━━━━━━━━━━━━━━━━━━━━\u001b[0m\u001b[37m\u001b[0m \u001b[1m4s\u001b[0m 31ms/step - loss: 0.1082 - val_loss: 0.0098\n",
            "Epoch 2/50\n",
            "\u001b[1m49/49\u001b[0m \u001b[32m━━━━━━━━━━━━━━━━━━━━\u001b[0m\u001b[37m\u001b[0m \u001b[1m1s\u001b[0m 25ms/step - loss: 0.0025 - val_loss: 0.0010\n",
            "Epoch 3/50\n",
            "\u001b[1m49/49\u001b[0m \u001b[32m━━━━━━━━━━━━━━━━━━━━\u001b[0m\u001b[37m\u001b[0m \u001b[1m1s\u001b[0m 26ms/step - loss: 8.8504e-04 - val_loss: 0.0011\n",
            "Epoch 4/50\n",
            "\u001b[1m49/49\u001b[0m \u001b[32m━━━━━━━━━━━━━━━━━━━━\u001b[0m\u001b[37m\u001b[0m \u001b[1m1s\u001b[0m 25ms/step - loss: 6.4964e-04 - val_loss: 9.7783e-04\n",
            "Epoch 5/50\n",
            "\u001b[1m49/49\u001b[0m \u001b[32m━━━━━━━━━━━━━━━━━━━━\u001b[0m\u001b[37m\u001b[0m \u001b[1m1s\u001b[0m 25ms/step - loss: 5.6427e-04 - val_loss: 0.0011\n",
            "Epoch 6/50\n",
            "\u001b[1m49/49\u001b[0m \u001b[32m━━━━━━━━━━━━━━━━━━━━\u001b[0m\u001b[37m\u001b[0m \u001b[1m2s\u001b[0m 36ms/step - loss: 5.7637e-04 - val_loss: 8.7877e-04\n",
            "Epoch 7/50\n",
            "\u001b[1m49/49\u001b[0m \u001b[32m━━━━━━━━━━━━━━━━━━━━\u001b[0m\u001b[37m\u001b[0m \u001b[1m2s\u001b[0m 41ms/step - loss: 5.1682e-04 - val_loss: 6.5515e-04\n",
            "Epoch 8/50\n",
            "\u001b[1m49/49\u001b[0m \u001b[32m━━━━━━━━━━━━━━━━━━━━\u001b[0m\u001b[37m\u001b[0m \u001b[1m1s\u001b[0m 29ms/step - loss: 4.5587e-04 - val_loss: 0.0010\n",
            "Epoch 9/50\n",
            "\u001b[1m49/49\u001b[0m \u001b[32m━━━━━━━━━━━━━━━━━━━━\u001b[0m\u001b[37m\u001b[0m \u001b[1m1s\u001b[0m 26ms/step - loss: 4.5985e-04 - val_loss: 6.4876e-04\n",
            "Epoch 10/50\n",
            "\u001b[1m49/49\u001b[0m \u001b[32m━━━━━━━━━━━━━━━━━━━━\u001b[0m\u001b[37m\u001b[0m \u001b[1m1s\u001b[0m 25ms/step - loss: 3.8896e-04 - val_loss: 7.4090e-04\n",
            "Epoch 11/50\n",
            "\u001b[1m49/49\u001b[0m \u001b[32m━━━━━━━━━━━━━━━━━━━━\u001b[0m\u001b[37m\u001b[0m \u001b[1m1s\u001b[0m 26ms/step - loss: 3.7366e-04 - val_loss: 7.5064e-04\n",
            "Epoch 12/50\n",
            "\u001b[1m49/49\u001b[0m \u001b[32m━━━━━━━━━━━━━━━━━━━━\u001b[0m\u001b[37m\u001b[0m \u001b[1m3s\u001b[0m 25ms/step - loss: 4.2221e-04 - val_loss: 5.2625e-04\n",
            "Epoch 13/50\n",
            "\u001b[1m49/49\u001b[0m \u001b[32m━━━━━━━━━━━━━━━━━━━━\u001b[0m\u001b[37m\u001b[0m \u001b[1m1s\u001b[0m 25ms/step - loss: 4.7326e-04 - val_loss: 5.2634e-04\n",
            "Epoch 14/50\n",
            "\u001b[1m49/49\u001b[0m \u001b[32m━━━━━━━━━━━━━━━━━━━━\u001b[0m\u001b[37m\u001b[0m \u001b[1m1s\u001b[0m 26ms/step - loss: 3.5267e-04 - val_loss: 0.0011\n",
            "Epoch 15/50\n",
            "\u001b[1m49/49\u001b[0m \u001b[32m━━━━━━━━━━━━━━━━━━━━\u001b[0m\u001b[37m\u001b[0m \u001b[1m2s\u001b[0m 37ms/step - loss: 4.3958e-04 - val_loss: 4.9686e-04\n",
            "Epoch 16/50\n",
            "\u001b[1m49/49\u001b[0m \u001b[32m━━━━━━━━━━━━━━━━━━━━\u001b[0m\u001b[37m\u001b[0m \u001b[1m2s\u001b[0m 40ms/step - loss: 3.9063e-04 - val_loss: 7.2708e-04\n",
            "Epoch 17/50\n",
            "\u001b[1m49/49\u001b[0m \u001b[32m━━━━━━━━━━━━━━━━━━━━\u001b[0m\u001b[37m\u001b[0m \u001b[1m2s\u001b[0m 25ms/step - loss: 4.0461e-04 - val_loss: 5.5639e-04\n",
            "Epoch 18/50\n",
            "\u001b[1m49/49\u001b[0m \u001b[32m━━━━━━━━━━━━━━━━━━━━\u001b[0m\u001b[37m\u001b[0m \u001b[1m1s\u001b[0m 26ms/step - loss: 4.2782e-04 - val_loss: 7.2832e-04\n",
            "Epoch 19/50\n",
            "\u001b[1m49/49\u001b[0m \u001b[32m━━━━━━━━━━━━━━━━━━━━\u001b[0m\u001b[37m\u001b[0m \u001b[1m2s\u001b[0m 25ms/step - loss: 3.7715e-04 - val_loss: 8.2522e-04\n",
            "Epoch 20/50\n",
            "\u001b[1m49/49\u001b[0m \u001b[32m━━━━━━━━━━━━━━━━━━━━\u001b[0m\u001b[37m\u001b[0m \u001b[1m1s\u001b[0m 25ms/step - loss: 4.3298e-04 - val_loss: 9.5588e-04\n",
            "Epoch 21/50\n",
            "\u001b[1m49/49\u001b[0m \u001b[32m━━━━━━━━━━━━━━━━━━━━\u001b[0m\u001b[37m\u001b[0m \u001b[1m1s\u001b[0m 26ms/step - loss: 4.6777e-04 - val_loss: 4.1167e-04\n",
            "Epoch 22/50\n",
            "\u001b[1m49/49\u001b[0m \u001b[32m━━━━━━━━━━━━━━━━━━━━\u001b[0m\u001b[37m\u001b[0m \u001b[1m1s\u001b[0m 25ms/step - loss: 3.1457e-04 - val_loss: 9.7597e-04\n",
            "Epoch 23/50\n",
            "\u001b[1m49/49\u001b[0m \u001b[32m━━━━━━━━━━━━━━━━━━━━\u001b[0m\u001b[37m\u001b[0m \u001b[1m2s\u001b[0m 33ms/step - loss: 3.4780e-04 - val_loss: 5.4195e-04\n",
            "Epoch 24/50\n",
            "\u001b[1m49/49\u001b[0m \u001b[32m━━━━━━━━━━━━━━━━━━━━\u001b[0m\u001b[37m\u001b[0m \u001b[1m3s\u001b[0m 36ms/step - loss: 3.2379e-04 - val_loss: 3.9852e-04\n",
            "Epoch 25/50\n",
            "\u001b[1m49/49\u001b[0m \u001b[32m━━━━━━━━━━━━━━━━━━━━\u001b[0m\u001b[37m\u001b[0m \u001b[1m1s\u001b[0m 25ms/step - loss: 3.3219e-04 - val_loss: 5.2412e-04\n",
            "Epoch 26/50\n",
            "\u001b[1m49/49\u001b[0m \u001b[32m━━━━━━━━━━━━━━━━━━━━\u001b[0m\u001b[37m\u001b[0m \u001b[1m1s\u001b[0m 25ms/step - loss: 3.3464e-04 - val_loss: 4.8420e-04\n",
            "Epoch 27/50\n",
            "\u001b[1m49/49\u001b[0m \u001b[32m━━━━━━━━━━━━━━━━━━━━\u001b[0m\u001b[37m\u001b[0m \u001b[1m1s\u001b[0m 26ms/step - loss: 2.9103e-04 - val_loss: 3.8230e-04\n",
            "Epoch 28/50\n",
            "\u001b[1m49/49\u001b[0m \u001b[32m━━━━━━━━━━━━━━━━━━━━\u001b[0m\u001b[37m\u001b[0m \u001b[1m3s\u001b[0m 25ms/step - loss: 3.5704e-04 - val_loss: 3.5944e-04\n",
            "Epoch 29/50\n",
            "\u001b[1m49/49\u001b[0m \u001b[32m━━━━━━━━━━━━━━━━━━━━\u001b[0m\u001b[37m\u001b[0m \u001b[1m1s\u001b[0m 26ms/step - loss: 3.0689e-04 - val_loss: 3.6694e-04\n",
            "Epoch 30/50\n",
            "\u001b[1m49/49\u001b[0m \u001b[32m━━━━━━━━━━━━━━━━━━━━\u001b[0m\u001b[37m\u001b[0m \u001b[1m1s\u001b[0m 25ms/step - loss: 3.4902e-04 - val_loss: 5.4372e-04\n",
            "Epoch 31/50\n",
            "\u001b[1m49/49\u001b[0m \u001b[32m━━━━━━━━━━━━━━━━━━━━\u001b[0m\u001b[37m\u001b[0m \u001b[1m2s\u001b[0m 32ms/step - loss: 2.9287e-04 - val_loss: 4.6892e-04\n",
            "Epoch 32/50\n",
            "\u001b[1m49/49\u001b[0m \u001b[32m━━━━━━━━━━━━━━━━━━━━\u001b[0m\u001b[37m\u001b[0m \u001b[1m2s\u001b[0m 39ms/step - loss: 2.6212e-04 - val_loss: 6.7183e-04\n",
            "Epoch 33/50\n",
            "\u001b[1m49/49\u001b[0m \u001b[32m━━━━━━━━━━━━━━━━━━━━\u001b[0m\u001b[37m\u001b[0m \u001b[1m1s\u001b[0m 27ms/step - loss: 2.7700e-04 - val_loss: 4.1863e-04\n",
            "Epoch 34/50\n",
            "\u001b[1m49/49\u001b[0m \u001b[32m━━━━━━━━━━━━━━━━━━━━\u001b[0m\u001b[37m\u001b[0m \u001b[1m1s\u001b[0m 26ms/step - loss: 3.2067e-04 - val_loss: 3.5951e-04\n",
            "Epoch 35/50\n",
            "\u001b[1m49/49\u001b[0m \u001b[32m━━━━━━━━━━━━━━━━━━━━\u001b[0m\u001b[37m\u001b[0m \u001b[1m1s\u001b[0m 26ms/step - loss: 2.7754e-04 - val_loss: 3.3470e-04\n",
            "Epoch 36/50\n",
            "\u001b[1m49/49\u001b[0m \u001b[32m━━━━━━━━━━━━━━━━━━━━\u001b[0m\u001b[37m\u001b[0m \u001b[1m1s\u001b[0m 25ms/step - loss: 3.7955e-04 - val_loss: 4.6503e-04\n",
            "Epoch 37/50\n",
            "\u001b[1m49/49\u001b[0m \u001b[32m━━━━━━━━━━━━━━━━━━━━\u001b[0m\u001b[37m\u001b[0m \u001b[1m1s\u001b[0m 25ms/step - loss: 2.8408e-04 - val_loss: 3.3254e-04\n",
            "Epoch 38/50\n",
            "\u001b[1m49/49\u001b[0m \u001b[32m━━━━━━━━━━━━━━━━━━━━\u001b[0m\u001b[37m\u001b[0m \u001b[1m1s\u001b[0m 25ms/step - loss: 2.8115e-04 - val_loss: 3.2370e-04\n",
            "Epoch 39/50\n",
            "\u001b[1m49/49\u001b[0m \u001b[32m━━━━━━━━━━━━━━━━━━━━\u001b[0m\u001b[37m\u001b[0m \u001b[1m1s\u001b[0m 26ms/step - loss: 2.9894e-04 - val_loss: 6.4946e-04\n",
            "Epoch 40/50\n",
            "\u001b[1m49/49\u001b[0m \u001b[32m━━━━━━━━━━━━━━━━━━━━\u001b[0m\u001b[37m\u001b[0m \u001b[1m3s\u001b[0m 39ms/step - loss: 3.0520e-04 - val_loss: 3.3208e-04\n",
            "Epoch 41/50\n",
            "\u001b[1m49/49\u001b[0m \u001b[32m━━━━━━━━━━━━━━━━━━━━\u001b[0m\u001b[37m\u001b[0m \u001b[1m2s\u001b[0m 27ms/step - loss: 3.3360e-04 - val_loss: 3.3100e-04\n",
            "Epoch 42/50\n",
            "\u001b[1m49/49\u001b[0m \u001b[32m━━━━━━━━━━━━━━━━━━━━\u001b[0m\u001b[37m\u001b[0m \u001b[1m2s\u001b[0m 25ms/step - loss: 3.4071e-04 - val_loss: 3.5204e-04\n",
            "Epoch 43/50\n",
            "\u001b[1m49/49\u001b[0m \u001b[32m━━━━━━━━━━━━━━━━━━━━\u001b[0m\u001b[37m\u001b[0m \u001b[1m1s\u001b[0m 25ms/step - loss: 2.9137e-04 - val_loss: 3.4209e-04\n",
            "Epoch 44/50\n",
            "\u001b[1m49/49\u001b[0m \u001b[32m━━━━━━━━━━━━━━━━━━━━\u001b[0m\u001b[37m\u001b[0m \u001b[1m1s\u001b[0m 25ms/step - loss: 2.6806e-04 - val_loss: 3.1119e-04\n",
            "Epoch 45/50\n",
            "\u001b[1m49/49\u001b[0m \u001b[32m━━━━━━━━━━━━━━━━━━━━\u001b[0m\u001b[37m\u001b[0m \u001b[1m1s\u001b[0m 25ms/step - loss: 2.9547e-04 - val_loss: 3.3964e-04\n",
            "Epoch 46/50\n",
            "\u001b[1m49/49\u001b[0m \u001b[32m━━━━━━━━━━━━━━━━━━━━\u001b[0m\u001b[37m\u001b[0m \u001b[1m1s\u001b[0m 26ms/step - loss: 2.7327e-04 - val_loss: 3.1016e-04\n",
            "Epoch 47/50\n",
            "\u001b[1m49/49\u001b[0m \u001b[32m━━━━━━━━━━━━━━━━━━━━\u001b[0m\u001b[37m\u001b[0m \u001b[1m3s\u001b[0m 41ms/step - loss: 2.4846e-04 - val_loss: 7.3825e-04\n",
            "Epoch 48/50\n",
            "\u001b[1m49/49\u001b[0m \u001b[32m━━━━━━━━━━━━━━━━━━━━\u001b[0m\u001b[37m\u001b[0m \u001b[1m2s\u001b[0m 36ms/step - loss: 3.0694e-04 - val_loss: 2.9838e-04\n",
            "Epoch 49/50\n",
            "\u001b[1m49/49\u001b[0m \u001b[32m━━━━━━━━━━━━━━━━━━━━\u001b[0m\u001b[37m\u001b[0m \u001b[1m2s\u001b[0m 25ms/step - loss: 2.8595e-04 - val_loss: 5.2253e-04\n",
            "Epoch 50/50\n",
            "\u001b[1m49/49\u001b[0m \u001b[32m━━━━━━━━━━━━━━━━━━━━\u001b[0m\u001b[37m\u001b[0m \u001b[1m1s\u001b[0m 25ms/step - loss: 2.7544e-04 - val_loss: 2.9798e-04\n"
          ]
        }
      ]
    },
    {
      "cell_type": "code",
      "source": [
        "import matplotlib.pyplot as plt\n",
        "\n",
        "# Avaliar o modelo\n",
        "loss = model.evaluate(X_test_reshaped, y_test, verbose=0)\n",
        "print(f\"Loss on test data: {loss}\")\n",
        "\n",
        "# Plotar a perda durante o treinamento\n",
        "plt.plot(history.history['loss'], label='Train Loss')\n",
        "plt.plot(history.history['val_loss'], label='Validation Loss')\n",
        "plt.title('Model Loss')\n",
        "plt.xlabel('Epoch')\n",
        "plt.ylabel('Loss')\n",
        "plt.legend()\n",
        "plt.show()\n"
      ],
      "metadata": {
        "colab": {
          "base_uri": "https://localhost:8080/",
          "height": 489
        },
        "id": "IhHaeLPJkGHJ",
        "outputId": "5557efde-4ec2-4700-9358-98815a3895c2"
      },
      "execution_count": 20,
      "outputs": [
        {
          "output_type": "stream",
          "name": "stdout",
          "text": [
            "Loss on test data: 0.000281470303889364\n"
          ]
        },
        {
          "output_type": "display_data",
          "data": {
            "text/plain": [
              "<Figure size 640x480 with 1 Axes>"
            ],
            "image/png": "[encoded data removed]"
          },
          "metadata": {}
        }
      ]
    },
    {
      "cell_type": "code",
      "source": [
        "# Fazer previsões no conjunto de teste\n",
        "y_pred = model.predict(X_test_reshaped)\n",
        "\n",
        "# Desnormalizar as previsões e os valores reais\n",
        "y_test_original = scaler.inverse_transform(y_test.reshape(-1, 1))\n",
        "y_pred_original = scaler.inverse_transform(y_pred)\n"
      ],
      "metadata": {
        "colab": {
          "base_uri": "https://localhost:8080/"
        },
        "id": "LUvqPtHAkIA4",
        "outputId": "97c6fcee-a423-4b76-cad7-aa599e06c17b"
      },
      "execution_count": 21,
      "outputs": [
        {
          "output_type": "stream",
          "name": "stdout",
          "text": [
            "\u001b[1m16/16\u001b[0m \u001b[32m━━━━━━━━━━━━━━━━━━━━\u001b[0m\u001b[37m\u001b[0m \u001b[1m1s\u001b[0m 26ms/step\n"
          ]
        }
      ]
    },
    {
      "cell_type": "code",
      "source": [
        "import numpy as np\n",
        "\n",
        "def evaluate_performance(y_true, y_pred, tolerance=0.05):\n",
        "    \"\"\"\n",
        "    Avalia o desempenho do modelo calculando o MAPE e a acurácia com base em uma tolerância.\n",
        "\n",
        "    Parameters:\n",
        "    - y_true: Array com os valores reais.\n",
        "    - y_pred: Array com os valores previstos.\n",
        "    - tolerance: Tolerância para calcular a acurácia (padrão é 5%).\n",
        "\n",
        "    Returns:\n",
        "    - None\n",
        "    \"\"\"\n",
        "    # Calcular MAPE\n",
        "    def mean_absolute_percentage_error(y_true, y_pred):\n",
        "        \"\"\"Calcula o MAPE\"\"\"\n",
        "        y_true, y_pred = np.array(y_true), np.array(y_pred)\n",
        "        return np.mean(np.abs((y_true - y_pred) / y_true)) * 100\n",
        "\n",
        "    # Calcular acurácia\n",
        "    def calculate_accuracy(y_true, y_pred, tolerance):\n",
        "        \"\"\"Calcula a acurácia com base em uma tolerância\"\"\"\n",
        "        y_true, y_pred = np.array(y_true), np.array(y_pred)\n",
        "        tolerance_value = tolerance * y_true\n",
        "        correct_predictions = np.abs(y_true - y_pred) <= tolerance_value\n",
        "        return np.mean(correct_predictions) * 100\n",
        "\n",
        "    # Calcular MAPE\n",
        "    mape = mean_absolute_percentage_error(y_true, y_pred)\n",
        "    print(f\"MAPE: {mape:.2f}%\")\n",
        "\n",
        "    # Calcular a acurácia\n",
        "    accuracy = calculate_accuracy(y_true, y_pred, tolerance)\n",
        "    print(f\"Acurácia: {accuracy:.2f}%\")\n",
        "\n",
        "# Exemplo de uso:\n",
        "evaluate_performance(y_test_original, y_pred_original, tolerance=0.05)\n"
      ],
      "metadata": {
        "colab": {
          "base_uri": "https://localhost:8080/"
        },
        "id": "nNlvcgH2kPM8",
        "outputId": "1f0da0cb-0724-4f89-91f0-95c05a82bc1b"
      },
      "execution_count": 22,
      "outputs": [
        {
          "output_type": "stream",
          "name": "stdout",
          "text": [
            "MAPE: 1.13%\n",
            "Acurácia: 99.79%\n"
          ]
        }
      ]
    },
    {
      "cell_type": "code",
      "source": [
        "def calculate_daily_closure(y_pred):\n",
        "    \"\"\"\n",
        "    Calcula o fechamento diário com base no valor mais recente da previsão.\n",
        "\n",
        "    Parameters:\n",
        "    - y_pred: Array com os valores previstos.\n",
        "\n",
        "    Returns:\n",
        "    - None\n",
        "    \"\"\"\n",
        "    # Pegar o valor mais recente previsto (caso seja um array multidimensional, pegar o valor escalar)\n",
        "    daily_closure = y_pred[-1]\n",
        "\n",
        "    # Se daily_closure for um array, pegue o primeiro elemento\n",
        "    if isinstance(daily_closure, np.ndarray):\n",
        "        daily_closure = daily_closure[0]\n",
        "\n",
        "    # Exibir o fechamento diário\n",
        "    print(f\"Fechamento diário previsto: {daily_closure:.2f}\")\n",
        "\n",
        "# Exemplo de uso:\n",
        "calculate_daily_closure(y_pred_original)\n",
        "\n"
      ],
      "metadata": {
        "colab": {
          "base_uri": "https://localhost:8080/"
        },
        "id": "rMBmxnhQSnW8",
        "outputId": "82f0df68-55b5-430e-aac2-788c837931f5"
      },
      "execution_count": 24,
      "outputs": [
        {
          "output_type": "stream",
          "name": "stdout",
          "text": [
            "Fechamento diário previsto: 132.73\n"
          ]
        }
      ]
    }
  ]
}